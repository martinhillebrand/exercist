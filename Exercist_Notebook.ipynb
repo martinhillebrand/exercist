{
 "cells": [
  {
   "cell_type": "code",
   "execution_count": null,
   "id": "14eb372d-14b7-40ec-8895-3f15d6ea79d1",
   "metadata": {},
   "outputs": [],
   "source": [
    "try:\n",
    "    import openai\n",
    "except:\n",
    "    !pip install openai"
   ]
  },
  {
   "cell_type": "code",
   "execution_count": null,
   "id": "5bfe22ea-64c9-4c52-ac95-50ee05ba4a6e",
   "metadata": {},
   "outputs": [],
   "source": [
    "filename = \"Enter Path to Notebook here\""
   ]
  },
  {
   "cell_type": "code",
   "execution_count": null,
   "id": "c63bde18-b64d-4408-a8b2-ec95e2958f92",
   "metadata": {},
   "outputs": [],
   "source": [
    "import exercist"
   ]
  },
  {
   "cell_type": "code",
   "execution_count": null,
   "id": "9438a7f5-f556-4084-ba9a-532c921eaf67",
   "metadata": {},
   "outputs": [],
   "source": [
    "import getpass"
   ]
  },
  {
   "cell_type": "code",
   "execution_count": null,
   "id": "aec3171a-0e8e-4bdf-ad5d-fea5dd72d635",
   "metadata": {},
   "outputs": [],
   "source": [
    "exercist.set_openAI_key(getpass.getpass(\"Enter your OpenAI API key here\"))"
   ]
  },
  {
   "cell_type": "code",
   "execution_count": null,
   "id": "70e54748-99fa-49c6-a474-ee1670645242",
   "metadata": {},
   "outputs": [],
   "source": [
    "exercist.call_exercist(filename, batch_size=10)"
   ]
  }
 ],
 "metadata": {
  "kernelspec": {
   "display_name": "Python 3 (ipykernel)",
   "language": "python",
   "name": "python3"
  },
  "language_info": {
   "codemirror_mode": {
    "name": "ipython",
    "version": 3
   },
   "file_extension": ".py",
   "mimetype": "text/x-python",
   "name": "python",
   "nbconvert_exporter": "python",
   "pygments_lexer": "ipython3",
   "version": "3.12.0"
  }
 },
 "nbformat": 4,
 "nbformat_minor": 5
}
